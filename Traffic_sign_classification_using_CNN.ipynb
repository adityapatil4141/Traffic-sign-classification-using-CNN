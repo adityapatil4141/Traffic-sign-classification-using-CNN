{
  "nbformat": 4,
  "nbformat_minor": 0,
  "metadata": {
    "colab": {
      "provenance": [],
      "gpuType": "T4",
      "authorship_tag": "ABX9TyOUvTZS9C8QoHO2WqivvVIQ",
      "include_colab_link": true
    },
    "kernelspec": {
      "name": "python3",
      "display_name": "Python 3"
    },
    "language_info": {
      "name": "python"
    },
    "accelerator": "GPU"
  },
  "cells": [
    {
      "cell_type": "markdown",
      "metadata": {
        "id": "view-in-github",
        "colab_type": "text"
      },
      "source": [
        "<a href=\"https://colab.research.google.com/github/adityapatil4141/Traffic-sign-classification-using-CNN/blob/main/Traffic_sign_classification_using_CNN.ipynb\" target=\"_parent\"><img src=\"https://colab.research.google.com/assets/colab-badge.svg\" alt=\"Open In Colab\"/></a>"
      ]
    },
    {
      "cell_type": "code",
      "execution_count": 1,
      "metadata": {
        "id": "pP982daWHVYR"
      },
      "outputs": [],
      "source": [
        "!mkdir -p ~/.kaggle/\n",
        "!cp kaggle.json ~/.kaggle/"
      ]
    },
    {
      "cell_type": "code",
      "source": [
        "!kaggle datasets download -d valentynsichkar/traffic-signs-preprocessed"
      ],
      "metadata": {
        "colab": {
          "base_uri": "https://localhost:8080/"
        },
        "id": "ktY9FVc5MUBb",
        "outputId": "84fe99cf-cee6-48a7-e271-77967fc9928b"
      },
      "execution_count": 2,
      "outputs": [
        {
          "output_type": "stream",
          "name": "stdout",
          "text": [
            "Warning: Your Kaggle API key is readable by other users on this system! To fix this, you can run 'chmod 600 /root/.kaggle/kaggle.json'\n",
            "Downloading traffic-signs-preprocessed.zip to /content\n",
            "100% 4.16G/4.16G [03:26<00:00, 21.7MB/s]\n",
            "100% 4.16G/4.16G [03:26<00:00, 21.7MB/s]\n"
          ]
        }
      ]
    },
    {
      "cell_type": "code",
      "source": [
        "import zipfile\n",
        "zip_ref = zipfile.ZipFile('/content/traffic-signs-preprocessed.zip','r')\n",
        "zip_ref.extractall('/content')\n",
        "zip_ref.close()"
      ],
      "metadata": {
        "id": "qwaaUW8qM4wF"
      },
      "execution_count": 3,
      "outputs": []
    },
    {
      "cell_type": "code",
      "source": [
        "import pandas as pd\n",
        "import numpy as np\n",
        "import matplotlib.pyplot as plt\n",
        "import seaborn as sns\n"
      ],
      "metadata": {
        "id": "ubKXqAscNN6n"
      },
      "execution_count": 4,
      "outputs": []
    },
    {
      "cell_type": "code",
      "source": [
        "df1 = pd.read_pickle(\"/content/data8.pickle\")"
      ],
      "metadata": {
        "id": "mqnk-2L2NLTt"
      },
      "execution_count": 5,
      "outputs": []
    },
    {
      "cell_type": "code",
      "source": [
        "df1.keys()"
      ],
      "metadata": {
        "colab": {
          "base_uri": "https://localhost:8080/"
        },
        "id": "MmzkEI1-N5W0",
        "outputId": "965e9c81-79fa-41eb-dd24-c938a9a550ff"
      },
      "execution_count": 6,
      "outputs": [
        {
          "output_type": "execute_result",
          "data": {
            "text/plain": [
              "dict_keys(['y_validation', 'x_train', 'y_train', 'x_validation', 'labels', 'x_test', 'y_test'])"
            ]
          },
          "metadata": {},
          "execution_count": 6
        }
      ]
    },
    {
      "cell_type": "code",
      "source": [
        "print('x_train shape =',df1['x_train'].shape)\n",
        "print('x_test shape =',df1['x_test'].shape)\n",
        "# print('labels shape =',df1['labels'].shape)\n",
        "print('y_test shape =',df1['y_test'].shape)\n",
        "print('y_validation shape =',df1['y_validation'].shape)\n",
        "print('y_train shape =',df1['y_train'].shape)\n",
        "print('x_validation shape =',df1['x_validation'].shape)"
      ],
      "metadata": {
        "colab": {
          "base_uri": "https://localhost:8080/"
        },
        "id": "ISAi26sRPg3E",
        "outputId": "71c57ae8-b75e-4650-87d3-c23e5c1f4d1f"
      },
      "execution_count": 7,
      "outputs": [
        {
          "output_type": "stream",
          "name": "stdout",
          "text": [
            "x_train shape = (86989, 1, 32, 32)\n",
            "x_test shape = (12630, 1, 32, 32)\n",
            "y_test shape = (12630,)\n",
            "y_validation shape = (4410,)\n",
            "y_train shape = (86989,)\n",
            "x_validation shape = (4410, 1, 32, 32)\n"
          ]
        }
      ]
    },
    {
      "cell_type": "code",
      "source": [
        "x_train = df1['x_train']\n",
        "x_test = df1['x_test']\n",
        "y_train = df1['y_train']\n",
        "y_test = df1['y_test']\n",
        "x_val = df1['x_validation']\n",
        "y_val = df1['y_validation']"
      ],
      "metadata": {
        "id": "idpibFWBQN1r"
      },
      "execution_count": 8,
      "outputs": []
    },
    {
      "cell_type": "code",
      "source": [
        "# Our x_train is not in format(x_train shape = (86989, 1, 32, 32)) to feed to deep network\n",
        "# correct format should be ((86989,32, 32,1))\n",
        "\n",
        "x_train = x_train.swapaxes(1,2)\n",
        "x_train.shape\n",
        "# We swaped nos of axes 1 and 2\n"
      ],
      "metadata": {
        "colab": {
          "base_uri": "https://localhost:8080/"
        },
        "id": "k4_mqF_rQyw_",
        "outputId": "77dc8f01-e31b-4e28-f49f-58f1fca0fa39"
      },
      "execution_count": 9,
      "outputs": [
        {
          "output_type": "execute_result",
          "data": {
            "text/plain": [
              "(86989, 32, 1, 32)"
            ]
          },
          "metadata": {},
          "execution_count": 9
        }
      ]
    },
    {
      "cell_type": "code",
      "source": [
        "#now swap 2nd and 3rd axes to get shape in perfect format\n",
        "x_train = x_train.swapaxes(2,3)\n",
        "x_train.shape\n",
        "x_train.shape"
      ],
      "metadata": {
        "colab": {
          "base_uri": "https://localhost:8080/"
        },
        "id": "Ao1eYfGuS2aS",
        "outputId": "10d46a82-e428-4b91-bea6-44dec9d11b74"
      },
      "execution_count": 10,
      "outputs": [
        {
          "output_type": "execute_result",
          "data": {
            "text/plain": [
              "(86989, 32, 32, 1)"
            ]
          },
          "metadata": {},
          "execution_count": 10
        }
      ]
    },
    {
      "cell_type": "code",
      "source": [
        "# Now similarly with x_val:(x_validation shape = (4410, 1, 32, 32))\n",
        "x_val = x_val.swapaxes(1,2)"
      ],
      "metadata": {
        "id": "r_b1tymNTlSN"
      },
      "execution_count": 11,
      "outputs": []
    },
    {
      "cell_type": "code",
      "source": [
        "x_val = x_val.swapaxes(2,3)\n",
        "x_val.shape"
      ],
      "metadata": {
        "colab": {
          "base_uri": "https://localhost:8080/"
        },
        "id": "TipofxtRT3vW",
        "outputId": "32d10104-04b8-4e9c-f065-2c534857d68d"
      },
      "execution_count": 12,
      "outputs": [
        {
          "output_type": "execute_result",
          "data": {
            "text/plain": [
              "(4410, 32, 32, 1)"
            ]
          },
          "metadata": {},
          "execution_count": 12
        }
      ]
    },
    {
      "cell_type": "code",
      "source": [
        "# Visualization :\n",
        "\n",
        "plt.figure(figsize=(10, 7))\n",
        "for i in range(16):\n",
        "    plt.subplot(4, 4, i + 1)  # Adjust the subplot layout as needed\n",
        "    plt.imshow(x_train[i].squeeze(), cmap='gray')  # Squeeze the channel dimension if it's 1\n",
        "    plt.axis('off')\n",
        "    plt.title(f'Image {i+1}')\n",
        "\n",
        "\n",
        "plt.show()"
      ],
      "metadata": {
        "colab": {
          "base_uri": "https://localhost:8080/",
          "height": 598
        },
        "id": "iLA1mPEuT7vG",
        "outputId": "1b3b3080-b060-45f8-9f7c-99acc62cec47"
      },
      "execution_count": 13,
      "outputs": [
        {
          "output_type": "display_data",
          "data": {
            "text/plain": [
              "<Figure size 1000x700 with 16 Axes>"
            ],
            "image/png": "[encoded data removed]"
          },
          "metadata": {}
        }
      ]
    },
    {
      "cell_type": "code",
      "source": [
        "img_list = [1,2,17]\n",
        "\n",
        "for i in img_list:\n",
        "  plt.imshow(x_train[i],cmap='gray')\n",
        "  plt.axis('off')\n",
        "  plt.show()"
      ],
      "metadata": {
        "colab": {
          "base_uri": "https://localhost:8080/",
          "height": 1000
        },
        "id": "RJqyEnB6U249",
        "outputId": "e882a2fe-1700-4d79-afab-1e5cf580231b"
      },
      "execution_count": 14,
      "outputs": [
        {
          "output_type": "display_data",
          "data": {
            "text/plain": [
              "<Figure size 640x480 with 1 Axes>"
            ],
            "image/png": "[encoded data removed]"
          },
          "metadata": {}
        },
        {
          "output_type": "display_data",
          "data": {
            "text/plain": [
              "<Figure size 640x480 with 1 Axes>"
            ],
            "image/png": "[encoded data removed]"
          },
          "metadata": {}
        },
        {
          "output_type": "display_data",
          "data": {
            "text/plain": [
              "<Figure size 640x480 with 1 Axes>"
            ],
            "image/png": "[encoded data removed]"
          },
          "metadata": {}
        }
      ]
    },
    {
      "cell_type": "code",
      "source": [
        "import tensorflow as tf"
      ],
      "metadata": {
        "id": "zZdTAuOpgttE"
      },
      "execution_count": 15,
      "outputs": []
    },
    {
      "cell_type": "code",
      "source": [
        "def resize(img):\n",
        "  numberofimage = img.shape[0]\n",
        "\n",
        "  new_array = np.zeros((numberofimage,64,64,1))\n",
        "  for i in range(numberofimage):\n",
        "    new_array[i] = tf.image.resize(img[i],(64,64))\n",
        "\n",
        "  return new_array"
      ],
      "metadata": {
        "id": "3ViwCGTXb6aQ"
      },
      "execution_count": 16,
      "outputs": []
    },
    {
      "cell_type": "code",
      "source": [
        "x_train_resized = resize(x_train)\n",
        "x_val_resized = resize(x_val)"
      ],
      "metadata": {
        "id": "JFd8geCggix5"
      },
      "execution_count": 17,
      "outputs": []
    },
    {
      "cell_type": "code",
      "source": [
        "from keras.utils import to_categorical"
      ],
      "metadata": {
        "id": "TUkl9YKQjLvp"
      },
      "execution_count": 18,
      "outputs": []
    },
    {
      "cell_type": "code",
      "source": [
        "numofclasses = 43\n",
        "y_train = to_categorical(y_train,num_classes=numofclasses)\n",
        "y_val = to_categorical(y_val,num_classes=numofclasses)"
      ],
      "metadata": {
        "id": "BmwA9eNKifRM"
      },
      "execution_count": 19,
      "outputs": []
    },
    {
      "cell_type": "code",
      "source": [
        "plt.imshow(x_train[2],cmap='gray')\n",
        "plt.title(\"32x32\")\n",
        "plt.axis(\"off\")\n",
        "plt.show()\n",
        "\n",
        "plt.imshow(x_train_resized[2],cmap='gray')\n",
        "plt.title(\"64x64\")\n",
        "plt.axis(\"off\")\n",
        "plt.show()"
      ],
      "metadata": {
        "colab": {
          "base_uri": "https://localhost:8080/",
          "height": 839
        },
        "id": "ysr2IQN8jcnN",
        "outputId": "215552c5-4c9d-4846-e1bd-62bcfae45b16"
      },
      "execution_count": 20,
      "outputs": [
        {
          "output_type": "display_data",
          "data": {
            "text/plain": [
              "<Figure size 640x480 with 1 Axes>"
            ],
            "image/png": "[encoded data removed]"
          },
          "metadata": {}
        },
        {
          "output_type": "display_data",
          "data": {
            "text/plain": [
              "<Figure size 640x480 with 1 Axes>"
            ],
            "image/png": "[encoded data removed]"
          },
          "metadata": {}
        }
      ]
    },
    {
      "cell_type": "code",
      "source": [
        "import tensorflow\n",
        "from tensorflow import keras\n",
        "from keras import Sequential\n",
        "from keras.layers import Dense,Flatten,Conv2D,Dropout,MaxPool2D"
      ],
      "metadata": {
        "id": "2fJ_-p5Sj6mh"
      },
      "execution_count": 21,
      "outputs": []
    },
    {
      "cell_type": "code",
      "source": [
        "model = Sequential()\n",
        "\n",
        "model.add(Conv2D(64,kernel_size=(4,4),padding='same',activation='relu',input_shape=(64,64,1)))\n",
        "model.add(MaxPool2D(pool_size=(2,2),strides=2 ,padding='same'))\n",
        "model.add(Conv2D(64,kernel_size=(4,4),padding='same',activation='relu'))\n",
        "model.add(MaxPool2D(pool_size=(2,2),strides=2,padding='same'))\n",
        "model.add(Conv2D(64,kernel_size=(4,4),padding='same',activation='relu'))\n",
        "model.add(MaxPool2D(pool_size=(2,2),strides=2,padding='same'))\n",
        "model.add(Conv2D(64,kernel_size=(4,4),padding='same',activation='relu'))\n",
        "model.add(MaxPool2D(pool_size=(2,2),strides=2,padding='same'))\n",
        "model.add(Flatten())\n",
        "model.add(Dense(128,activation='relu',))\n",
        "model.add(Dropout(0.5))\n",
        "model.add(Dense(units=numofclasses,activation='softmax'))\n"
      ],
      "metadata": {
        "id": "I2hO0uP0kPM5"
      },
      "execution_count": 22,
      "outputs": []
    },
    {
      "cell_type": "code",
      "source": [
        "model.compile(loss='categorical_crossentropy',optimizer='adam',metrics=['accuracy'])"
      ],
      "metadata": {
        "id": "i6n8aFl2mG_W"
      },
      "execution_count": 23,
      "outputs": []
    },
    {
      "cell_type": "code",
      "source": [
        "model.fit(x_train_resized,y_train,batch_size=512,epochs=10,verbose=True,validation_data=(x_val_resized,y_val))"
      ],
      "metadata": {
        "colab": {
          "base_uri": "https://localhost:8080/"
        },
        "id": "r89JqS_umRZz",
        "outputId": "4d192955-5c9c-4457-85ac-eb8f72a80e07"
      },
      "execution_count": 24,
      "outputs": [
        {
          "output_type": "stream",
          "name": "stdout",
          "text": [
            "Epoch 1/10\n",
            "170/170 [==============================] - 33s 144ms/step - loss: 1.7954 - accuracy: 0.5068 - val_loss: 0.4388 - val_accuracy: 0.8721\n",
            "Epoch 2/10\n",
            "170/170 [==============================] - 20s 119ms/step - loss: 0.3960 - accuracy: 0.8814 - val_loss: 0.1898 - val_accuracy: 0.9390\n",
            "Epoch 3/10\n",
            "170/170 [==============================] - 21s 121ms/step - loss: 0.2038 - accuracy: 0.9393 - val_loss: 0.1770 - val_accuracy: 0.9599\n",
            "Epoch 4/10\n",
            "170/170 [==============================] - 20s 120ms/step - loss: 0.1336 - accuracy: 0.9601 - val_loss: 0.1251 - val_accuracy: 0.9703\n",
            "Epoch 5/10\n",
            "170/170 [==============================] - 20s 118ms/step - loss: 0.0994 - accuracy: 0.9705 - val_loss: 0.1323 - val_accuracy: 0.9683\n",
            "Epoch 6/10\n",
            "170/170 [==============================] - 20s 119ms/step - loss: 0.0781 - accuracy: 0.9761 - val_loss: 0.1421 - val_accuracy: 0.9739\n",
            "Epoch 7/10\n",
            "170/170 [==============================] - 20s 119ms/step - loss: 0.0644 - accuracy: 0.9801 - val_loss: 0.1247 - val_accuracy: 0.9728\n",
            "Epoch 8/10\n",
            "170/170 [==============================] - 20s 119ms/step - loss: 0.0512 - accuracy: 0.9844 - val_loss: 0.0769 - val_accuracy: 0.9816\n",
            "Epoch 9/10\n",
            "170/170 [==============================] - 20s 119ms/step - loss: 0.0463 - accuracy: 0.9851 - val_loss: 0.1027 - val_accuracy: 0.9782\n",
            "Epoch 10/10\n",
            "170/170 [==============================] - 20s 119ms/step - loss: 0.0392 - accuracy: 0.9879 - val_loss: 0.0838 - val_accuracy: 0.9821\n"
          ]
        },
        {
          "output_type": "execute_result",
          "data": {
            "text/plain": [
              "<keras.src.callbacks.History at 0x7dc1e60b5de0>"
            ]
          },
          "metadata": {},
          "execution_count": 24
        }
      ]
    },
    {
      "cell_type": "markdown",
      "source": [
        "#Hyperparameter tuning"
      ],
      "metadata": {
        "id": "2Eie4O2bpnfb"
      }
    },
    {
      "cell_type": "code",
      "source": [
        "def build_model(hp):\n",
        "  model2 = Sequential()\n",
        "\n",
        "  model2.add(Conv2D(64,kernel_size=(4,4),padding='same',activation='relu',input_shape=(64,64,1)))\n",
        "  model2.add(MaxPool2D(pool_size=(2,2),strides=2 ,padding='same'))\n",
        "  model2.add(Conv2D(64,kernel_size=(4,4),padding='same',activation='relu'))\n",
        "  model2.add(MaxPool2D(pool_size=(2,2),strides=2,padding='same'))\n",
        "  model2.add(Conv2D(64,kernel_size=(4,4),padding='same',activation='relu'))\n",
        "  model2.add(MaxPool2D(pool_size=(2,2),strides=2,padding='same'))\n",
        "  model2.add(Conv2D(64,kernel_size=(4,4),padding='same',activation='relu'))\n",
        "  model2.add(MaxPool2D(pool_size=(2,2),strides=2,padding='same'))\n",
        "  model2.add(Flatten())\n",
        "\n",
        "  if i in range(hp.Int('num_layers',min_value=1,max_value=10)):\n",
        "\n",
        "    model2.add(\n",
        "        Dense(\n",
        "            hp.Int('units'+str(i),min_value=8,max_value=128,step=8),\n",
        "            activation=hp.Choice('activation'+str(i),values=['relu','tanh','sigmoid'])))\n",
        "\n",
        "\n",
        "\n",
        "    model2.add(\n",
        "        Dropout(hp.Choice('val'+str(i),values=[0.1,0.2,0.3,0.4,0.5,0.6,0.7,0.8,0.9])\n",
        "            ))\n",
        "\n",
        "\n",
        "  model2.add(Dense(units=43,activation='softmax'))\n",
        "\n",
        "\n",
        "  model2.compile(loss='categorical_crossentropy',optimizer=hp.Choice('optimizer',values=['adam','rmsprop','adadelta','sgd']) ,metrics=['accuracy'])\n",
        "  return model2"
      ],
      "metadata": {
        "id": "41iS7YlTppWT"
      },
      "execution_count": 25,
      "outputs": []
    },
    {
      "cell_type": "code",
      "source": [
        "!pip install -U keras-tuner"
      ],
      "metadata": {
        "colab": {
          "base_uri": "https://localhost:8080/"
        },
        "id": "AjEJWOc3toFS",
        "outputId": "e877c872-064c-4389-99fd-6c8f2f620951"
      },
      "execution_count": 26,
      "outputs": [
        {
          "output_type": "stream",
          "name": "stdout",
          "text": [
            "Collecting keras-tuner\n",
            "  Downloading keras_tuner-1.4.7-py3-none-any.whl (129 kB)\n",
            "\u001b[?25l     \u001b[90m━━━━━━━━━━━━━━━━━━━━━━━━━━━━━━━━━━━━━━━━\u001b[0m \u001b[32m0.0/129.1 kB\u001b[0m \u001b[31m?\u001b[0m eta \u001b[36m-:--:--\u001b[0m\r\u001b[2K     \u001b[90m━━━━━━━━━━━━━━━━━━━━━━━━━━━━━━━━━━━━━━━━\u001b[0m \u001b[32m129.1/129.1 kB\u001b[0m \u001b[31m4.6 MB/s\u001b[0m eta \u001b[36m0:00:00\u001b[0m\n",
            "\u001b[?25hRequirement already satisfied: keras in /usr/local/lib/python3.10/dist-packages (from keras-tuner) (2.15.0)\n",
            "Requirement already satisfied: packaging in /usr/local/lib/python3.10/dist-packages (from keras-tuner) (24.0)\n",
            "Requirement already satisfied: requests in /usr/local/lib/python3.10/dist-packages (from keras-tuner) (2.31.0)\n",
            "Collecting kt-legacy (from keras-tuner)\n",
            "  Downloading kt_legacy-1.0.5-py3-none-any.whl (9.6 kB)\n",
            "Requirement already satisfied: charset-normalizer<4,>=2 in /usr/local/lib/python3.10/dist-packages (from requests->keras-tuner) (3.3.2)\n",
            "Requirement already satisfied: idna<4,>=2.5 in /usr/local/lib/python3.10/dist-packages (from requests->keras-tuner) (3.7)\n",
            "Requirement already satisfied: urllib3<3,>=1.21.1 in /usr/local/lib/python3.10/dist-packages (from requests->keras-tuner) (2.0.7)\n",
            "Requirement already satisfied: certifi>=2017.4.17 in /usr/local/lib/python3.10/dist-packages (from requests->keras-tuner) (2024.2.2)\n",
            "Installing collected packages: kt-legacy, keras-tuner\n",
            "Successfully installed keras-tuner-1.4.7 kt-legacy-1.0.5\n"
          ]
        }
      ]
    },
    {
      "cell_type": "code",
      "source": [
        "import kerastuner as kt"
      ],
      "metadata": {
        "colab": {
          "base_uri": "https://localhost:8080/"
        },
        "id": "tJaaO143uRwo",
        "outputId": "0f236f63-22c9-4920-ec6f-b0e5a14f3a31"
      },
      "execution_count": 27,
      "outputs": [
        {
          "output_type": "stream",
          "name": "stderr",
          "text": [
            "<ipython-input-27-5fd8096cdee5>:1: DeprecationWarning: `import kerastuner` is deprecated, please use `import keras_tuner`.\n",
            "  import kerastuner as kt\n"
          ]
        }
      ]
    },
    {
      "cell_type": "code",
      "source": [
        "from kerastuner.tuners import RandomSearch"
      ],
      "metadata": {
        "id": "VdMv-uk7mmx6"
      },
      "execution_count": 28,
      "outputs": []
    },
    {
      "cell_type": "code",
      "source": [
        "tuner = kt.RandomSearch(build_model,objective=\"val_accuracy\",max_trials=3,directory='mydir',project_name='tuning')"
      ],
      "metadata": {
        "id": "NtMLTS3zta4Y"
      },
      "execution_count": 29,
      "outputs": []
    },
    {
      "cell_type": "code",
      "source": [
        "tuner.search(x_train_resized,y_train,epochs=10,validation_data=(x_val_resized,y_val))"
      ],
      "metadata": {
        "colab": {
          "base_uri": "https://localhost:8080/"
        },
        "id": "YsK1mILowjIc",
        "outputId": "c3848347-6b7b-4636-f024-83fb0f299e27"
      },
      "execution_count": 30,
      "outputs": [
        {
          "output_type": "stream",
          "name": "stdout",
          "text": [
            "Trial 3 Complete [00h 04m 43s]\n",
            "val_accuracy: 0.9795918464660645\n",
            "\n",
            "Best val_accuracy So Far: 0.9795918464660645\n",
            "Total elapsed time: 00h 14m 59s\n"
          ]
        }
      ]
    },
    {
      "cell_type": "code",
      "source": [
        "tuner.get_best_hyperparameters()[0].values"
      ],
      "metadata": {
        "colab": {
          "base_uri": "https://localhost:8080/"
        },
        "id": "jAxzwMN3w7wv",
        "outputId": "2a08db43-450d-44d0-a224-e77dc5af69de"
      },
      "execution_count": 31,
      "outputs": [
        {
          "output_type": "execute_result",
          "data": {
            "text/plain": [
              "{'num_layers': 5, 'optimizer': 'adam'}"
            ]
          },
          "metadata": {},
          "execution_count": 31
        }
      ]
    },
    {
      "cell_type": "code",
      "source": [
        "model2 = tuner.get_best_models(num_models=1)[0]"
      ],
      "metadata": {
        "id": "_IeDRojcxLLk"
      },
      "execution_count": 32,
      "outputs": []
    },
    {
      "cell_type": "code",
      "source": [
        "from keras.callbacks import EarlyStopping\n"
      ],
      "metadata": {
        "id": "5z_lBaYZ7_Yt"
      },
      "execution_count": 33,
      "outputs": []
    },
    {
      "cell_type": "code",
      "source": [
        "early_stopping = EarlyStopping(monitor='val_loss', patience=8, restore_best_weights=True)\n",
        "model2.fit(x_train_resized,y_train,epochs=100,initial_epoch=10,validation_data=(x_val_resized,y_val),callbacks=[early_stopping])"
      ],
      "metadata": {
        "colab": {
          "base_uri": "https://localhost:8080/"
        },
        "id": "Vt_hR_UuxTlb",
        "outputId": "44d022eb-b1a3-4096-86de-e522aeb6bc7e"
      },
      "execution_count": 34,
      "outputs": [
        {
          "output_type": "stream",
          "name": "stdout",
          "text": [
            "Epoch 11/100\n",
            "2719/2719 [==============================] - 39s 14ms/step - loss: 0.0241 - accuracy: 0.9946 - val_loss: 0.1419 - val_accuracy: 0.9791\n",
            "Epoch 12/100\n",
            "2719/2719 [==============================] - 27s 10ms/step - loss: 0.0252 - accuracy: 0.9944 - val_loss: 0.2910 - val_accuracy: 0.9764\n",
            "Epoch 13/100\n",
            "2719/2719 [==============================] - 27s 10ms/step - loss: 0.0228 - accuracy: 0.9948 - val_loss: 0.1892 - val_accuracy: 0.9771\n",
            "Epoch 14/100\n",
            "2719/2719 [==============================] - 29s 11ms/step - loss: 0.0223 - accuracy: 0.9956 - val_loss: 0.2592 - val_accuracy: 0.9778\n",
            "Epoch 15/100\n",
            "2719/2719 [==============================] - 27s 10ms/step - loss: 0.0252 - accuracy: 0.9951 - val_loss: 0.2011 - val_accuracy: 0.9791\n",
            "Epoch 16/100\n",
            "2719/2719 [==============================] - 27s 10ms/step - loss: 0.0194 - accuracy: 0.9961 - val_loss: 0.2765 - val_accuracy: 0.9755\n",
            "Epoch 17/100\n",
            "2719/2719 [==============================] - 27s 10ms/step - loss: 0.0235 - accuracy: 0.9958 - val_loss: 0.2269 - val_accuracy: 0.9821\n",
            "Epoch 18/100\n",
            "2719/2719 [==============================] - 27s 10ms/step - loss: 0.0223 - accuracy: 0.9960 - val_loss: 0.3209 - val_accuracy: 0.9803\n",
            "Epoch 19/100\n",
            "2719/2719 [==============================] - 27s 10ms/step - loss: 0.0211 - accuracy: 0.9963 - val_loss: 0.3211 - val_accuracy: 0.9810\n"
          ]
        },
        {
          "output_type": "execute_result",
          "data": {
            "text/plain": [
              "<keras.src.callbacks.History at 0x7dc16d8fb700>"
            ]
          },
          "metadata": {},
          "execution_count": 34
        }
      ]
    },
    {
      "cell_type": "markdown",
      "source": [
        "# We have achieved 98% accuracy"
      ],
      "metadata": {
        "id": "5yEUfFlnXLlM"
      }
    },
    {
      "cell_type": "code",
      "source": [
        "import cv2"
      ],
      "metadata": {
        "id": "J4UF537paL2E"
      },
      "execution_count": 68,
      "outputs": []
    },
    {
      "cell_type": "code",
      "source": [
        "test_img= cv2.imread('/content/right.png')"
      ],
      "metadata": {
        "id": "6VV1oh3maF4Y"
      },
      "execution_count": 69,
      "outputs": []
    },
    {
      "cell_type": "code",
      "source": [
        "plt.imshow(test_img)\n"
      ],
      "metadata": {
        "colab": {
          "base_uri": "https://localhost:8080/",
          "height": 452
        },
        "id": "QIJuJ3sIaKdj",
        "outputId": "49061a0e-3e9f-446a-eda6-f3bb07132145"
      },
      "execution_count": 70,
      "outputs": [
        {
          "output_type": "execute_result",
          "data": {
            "text/plain": [
              "<matplotlib.image.AxesImage at 0x7dc1481310c0>"
            ]
          },
          "metadata": {},
          "execution_count": 70
        },
        {
          "output_type": "display_data",
          "data": {
            "text/plain": [
              "<Figure size 640x480 with 1 Axes>"
            ],
            "image/png": "[encoded data removed]"
          },
          "metadata": {}
        }
      ]
    },
    {
      "cell_type": "code",
      "source": [
        "test_img.shape\n"
      ],
      "metadata": {
        "colab": {
          "base_uri": "https://localhost:8080/"
        },
        "id": "KPWagMpIaR6A",
        "outputId": "cc7a3a3d-2c56-4654-b3b5-acb3bb5d0ae8"
      },
      "execution_count": 71,
      "outputs": [
        {
          "output_type": "execute_result",
          "data": {
            "text/plain": [
              "(411, 389, 3)"
            ]
          },
          "metadata": {},
          "execution_count": 71
        }
      ]
    },
    {
      "cell_type": "code",
      "source": [
        "print(test_img.shape)\n",
        "print(test_img.size)\n"
      ],
      "metadata": {
        "colab": {
          "base_uri": "https://localhost:8080/"
        },
        "id": "JfngfNXecSf1",
        "outputId": "620a0ef3-e76a-4c1d-de77-a42c3af90d3d"
      },
      "execution_count": 75,
      "outputs": [
        {
          "output_type": "stream",
          "name": "stdout",
          "text": [
            "(411, 389, 3)\n",
            "479637\n"
          ]
        }
      ]
    },
    {
      "cell_type": "code",
      "source": [
        "import cv2\n",
        "\n",
        "# Assuming img is your original image\n",
        "resized_img = cv2.resize(test_img, (64, 64))\n",
        "# reshaped_img = resized_img.reshape((64, 64, 3))\n"
      ],
      "metadata": {
        "id": "QLTv0KsUclH_"
      },
      "execution_count": 78,
      "outputs": []
    },
    {
      "cell_type": "code",
      "source": [
        "import cv2\n",
        "import numpy as np\n",
        "\n",
        "# Assuming img is your input image with shape (64, 64, 3)\n",
        "gray_img = cv2.cvtColor(resized_img, cv2.COLOR_RGB2GRAY)  # Convert RGB image to grayscale\n",
        "input_data = gray_img.reshape((1, 64, 64, 1))  # Add a channel dimension\n",
        "\n",
        "# Now input_data has the shape (1, 64, 64, 1), matching the expected input shape\n"
      ],
      "metadata": {
        "id": "cGBAE0DMdhE9"
      },
      "execution_count": 83,
      "outputs": []
    },
    {
      "cell_type": "code",
      "source": [
        "input_data.shape"
      ],
      "metadata": {
        "colab": {
          "base_uri": "https://localhost:8080/"
        },
        "id": "rKbzHGWCdGkC",
        "outputId": "a3c01a82-9062-4ecb-a121-4463288dde69"
      },
      "execution_count": 85,
      "outputs": [
        {
          "output_type": "execute_result",
          "data": {
            "text/plain": [
              "(1, 64, 64, 1)"
            ]
          },
          "metadata": {},
          "execution_count": 85
        }
      ]
    },
    {
      "cell_type": "code",
      "source": [
        "predictions=model2.predict(input_data)\n"
      ],
      "metadata": {
        "colab": {
          "base_uri": "https://localhost:8080/"
        },
        "id": "6YA-L8B6cWXV",
        "outputId": "7e9e20c1-75bc-4176-936a-bfe2e3156328"
      },
      "execution_count": 87,
      "outputs": [
        {
          "output_type": "stream",
          "name": "stdout",
          "text": [
            "1/1 [==============================] - 0s 405ms/step\n"
          ]
        },
        {
          "output_type": "execute_result",
          "data": {
            "text/plain": [
              "array([[0., 0., 0., 0., 0., 0., 0., 0., 0., 0., 0., 0., 0., 1., 0., 0.,\n",
              "        0., 0., 0., 0., 0., 0., 0., 0., 0., 0., 0., 0., 0., 0., 0., 0.,\n",
              "        0., 0., 0., 0., 0., 0., 0., 0., 0., 0., 0.]], dtype=float32)"
            ]
          },
          "metadata": {},
          "execution_count": 87
        }
      ]
    },
    {
      "cell_type": "code",
      "source": [
        "predicted_class = np.argmax(predictions)\n"
      ],
      "metadata": {
        "colab": {
          "base_uri": "https://localhost:8080/",
          "height": 139
        },
        "id": "dnVY4jjEcW7_",
        "outputId": "129284bc-ad69-45c4-938d-54d19fcbb9b5"
      },
      "execution_count": 1,
      "outputs": [
        {
          "output_type": "error",
          "ename": "NameError",
          "evalue": "name 'np' is not defined",
          "traceback": [
            "\u001b[0;31m---------------------------------------------------------------------------\u001b[0m",
            "\u001b[0;31mNameError\u001b[0m                                 Traceback (most recent call last)",
            "\u001b[0;32m<ipython-input-1-ee1586eed2b8>\u001b[0m in \u001b[0;36m<cell line: 1>\u001b[0;34m()\u001b[0m\n\u001b[0;32m----> 1\u001b[0;31m \u001b[0mpredicted_class\u001b[0m \u001b[0;34m=\u001b[0m \u001b[0mnp\u001b[0m\u001b[0;34m.\u001b[0m\u001b[0margmax\u001b[0m\u001b[0;34m(\u001b[0m\u001b[0mpredictions\u001b[0m\u001b[0;34m)\u001b[0m\u001b[0;34m\u001b[0m\u001b[0;34m\u001b[0m\u001b[0m\n\u001b[0m",
            "\u001b[0;31mNameError\u001b[0m: name 'np' is not defined"
          ]
        }
      ]
    }
  ]
}